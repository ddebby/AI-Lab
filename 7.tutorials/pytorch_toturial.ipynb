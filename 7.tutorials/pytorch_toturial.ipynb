{
 "cells": [
  {
   "cell_type": "markdown",
   "metadata": {},
   "source": [
    "![](https://deeplizard.com/images/pytorch-logo-dark.svg)"
   ]
  },
  {
   "cell_type": "markdown",
   "metadata": {},
   "source": [
    "## 0.Beginning"
   ]
  },
  {
   "cell_type": "markdown",
   "metadata": {},
   "source": [
    "深度学习模型的构建流程：\n",
    "1. 数据准备\n",
    "2. 构建模型\n",
    "3. 训练模型\n",
    "4. 测试模型性能\n",
    "\n",
    "本文基于Pytorch的教学，重新梳理神经网络入门教程，为未来进行相关培训提供支撑。\n",
    "\n",
    "[Neural Network Programming - Deep Learning with PyTorch](https://deeplizard.com/learn/video/v5cngxo4mIg)\n",
    "\n",
    "\t• Part 1: PyTorch and Tensors\n",
    "\t\t○ Section 1: Introducing PyTorch\n",
    "\t\t\t§ PyTorch Prerequisites - Neural Network Programming Series\n",
    "\t\t\t§ PyTorch Explained - Python Deep Learning Neural Network API\n",
    "\t\t\t§ PyTorch Install - Quick and Easy\n",
    "\t\t\t§ CUDA Explained - Why Deep Learning Uses GPUs\n",
    "\t\t○ Section 2: Introducing Tensors\n",
    "\t\t\t§ Tensors Explained - Data Structures of Deep Learning\n",
    "\t\t\t§ Rank, Axes, and Shape Explained - Tensors for Deep Learning\n",
    "\t\t\t§ CNN Tensor Shape Explained - CNNs and Feature Maps\n",
    "\t\t○ Section 3: PyTorch Tensors\n",
    "\t\t\t§ PyTorch Tensors Explained - Neural Network Programming\n",
    "\t\t\t§ Creating PyTorch Tensors for Deep Learning - Best Options\n",
    "\t\t○ Section 4: Tensor Operations\n",
    "\t\t\t§ Flatten, Reshape, and Squeeze Explained - Tensors for Deep Learning\n",
    "\t\t\t§ CNN Flatten Operation Visualized - Tensor Batch Processing\n",
    "\t\t\t§ Tensors for Deep Learning - Broadcasting and Element-wise Operations\n",
    "\t\t\t§ ArgMax and Reduction Ops - Tensors for Deep Learning\n",
    "\t• Part 2: Neural Networks and Deep Learning with PyTorch（14-）\n",
    "\t\t○ Section 1: Data and Data Processing\n",
    "\t\t\t§ Importance of Data in Deep Learning - Fashion MNIST for AI\n",
    "\t\t\t§ Extract, Transform, Load (ETL) - Deep Learning Data Preparation\n",
    "\t\t\t§ PyTorch Datasets and DataLoaders - Training Set Exploration\n",
    "\t\t○ Section 2: Neural Networks and PyTorch Design\n",
    "\t\t\t§ Build PyTorch CNN - Object Oriented Neural Networks\n",
    "\t\t\t§ CNN Layers - Deep Neural Network Architecture\n",
    "\t\t\t§ CNN Weights - Learnable Parameters in Neural Networks\n",
    "\t\t\t§ Callable Neural Networks - Linear Layers in Depth\n",
    "\t\t\t§ CNN Forward Method - Deep Learning Implementation\n",
    "\t\t\t§ Forward Propagation Explained - Pass Image to PyTorch Neural Network\n",
    "\t\t\t§ Neural Network Batch Processing - Pass Image Batch to PyTorch CNN\n",
    "\t\t\t§ CNN Output Size Formula - Bonus Neural Network Debugging Session\n",
    "\t\t○ Section 3: Training Neural Networks\n",
    "\t\t\t§ CNN Training with Code Example - Neural Network Programming\n",
    "\t\t\t§ Analyzing results of CNN with confusion matrix"
   ]
  },
  {
   "cell_type": "code",
   "execution_count": null,
   "metadata": {},
   "outputs": [],
   "source": []
  },
  {
   "cell_type": "markdown",
   "metadata": {},
   "source": [
    "## Tensor"
   ]
  },
  {
   "cell_type": "markdown",
   "metadata": {},
   "source": [
    "- number\n",
    "- scalar\n",
    "- array\n",
    "- vector\n",
    "- 2d-array\n",
    "- matrix\n",
    "\n",
    "\n",
    "Flatten()\n",
    "\n",
    "Squeeze()\n",
    "\n",
    "view()\n",
    "\n",
    "numel()\n",
    "\n",
    "torch.cat  vs  torch.stack\n",
    "\n",
    "BroadCasting"
   ]
  },
  {
   "cell_type": "markdown",
   "metadata": {},
   "source": [
    "## DataSet and DataLoader"
   ]
  },
  {
   "cell_type": "code",
   "execution_count": null,
   "metadata": {},
   "outputs": [],
   "source": []
  },
  {
   "cell_type": "markdown",
   "metadata": {},
   "source": [
    "- Extract – Get the Fashion-MNIST image data from the source.\n",
    "- Transform – Put our data into tensor form.\n",
    "- Load – Put our data into an object to make it easily accessible."
   ]
  },
  {
   "cell_type": "code",
   "execution_count": 1,
   "metadata": {},
   "outputs": [],
   "source": [
    "import torch\n",
    "import torch.nn as nn\n",
    "import torch.nn.functional as F\n",
    "import torch.optim as opt\n",
    "\n",
    "import torchvision\n",
    "import torchvision.transforms as transforms"
   ]
  },
  {
   "cell_type": "code",
   "execution_count": 2,
   "metadata": {},
   "outputs": [],
   "source": [
    "import numpy as np\n",
    "import pandas as pd\n",
    "import matplotlib.pyplot as plt \n",
    "%matplotlib inline\n",
    "\n",
    "from sklearn.metrics import confusion_matrix\n",
    "\n",
    "import pdb\n",
    "\n",
    "torch.set_printoptions(linewidth=120)"
   ]
  },
  {
   "cell_type": "code",
   "execution_count": 3,
   "metadata": {},
   "outputs": [],
   "source": [
    "from torch.utils.data import Dataset, DataLoader"
   ]
  },
  {
   "cell_type": "code",
   "execution_count": 4,
   "metadata": {},
   "outputs": [],
   "source": [
    "train_set = torchvision.datasets.FashionMNIST(\n",
    "    root='/home/inesa/data/mnist',\n",
    "    train=True,\n",
    "    download=True,\n",
    "    transform=transforms.Compose([transforms.ToTensor()])\n",
    ")"
   ]
  },
  {
   "cell_type": "code",
   "execution_count": 5,
   "metadata": {},
   "outputs": [],
   "source": [
    "data_dl = DataLoader(train_set, batch_size=20, shuffle=True)"
   ]
  },
  {
   "cell_type": "markdown",
   "metadata": {},
   "source": [
    "### train_set"
   ]
  },
  {
   "cell_type": "code",
   "execution_count": 160,
   "metadata": {},
   "outputs": [
    {
     "data": {
      "text/plain": [
       "tensor([5, 0, 4,  ..., 5, 6, 8])"
      ]
     },
     "execution_count": 160,
     "metadata": {},
     "output_type": "execute_result"
    }
   ],
   "source": [
    "train_set.train_labels"
   ]
  },
  {
   "cell_type": "code",
   "execution_count": 161,
   "metadata": {},
   "outputs": [
    {
     "data": {
      "text/plain": [
       "tensor([5923, 6742, 5958, 6131, 5842, 5421, 5918, 6265, 5851, 5949])"
      ]
     },
     "execution_count": 161,
     "metadata": {},
     "output_type": "execute_result"
    }
   ],
   "source": [
    "train_set.train_labels.bincount()"
   ]
  },
  {
   "cell_type": "code",
   "execution_count": 9,
   "metadata": {},
   "outputs": [],
   "source": [
    "sample = next(iter(train_set))"
   ]
  },
  {
   "cell_type": "code",
   "execution_count": 12,
   "metadata": {},
   "outputs": [],
   "source": [
    "image,label = sample"
   ]
  },
  {
   "cell_type": "code",
   "execution_count": 13,
   "metadata": {},
   "outputs": [
    {
     "data": {
      "text/plain": [
       "tensor(5)"
      ]
     },
     "execution_count": 13,
     "metadata": {},
     "output_type": "execute_result"
    }
   ],
   "source": [
    "label"
   ]
  },
  {
   "cell_type": "code",
   "execution_count": 14,
   "metadata": {},
   "outputs": [
    {
     "data": {
      "text/plain": [
       "torch.Size([1, 28, 28])"
      ]
     },
     "execution_count": 14,
     "metadata": {},
     "output_type": "execute_result"
    }
   ],
   "source": [
    "image.size()"
   ]
  },
  {
   "cell_type": "code",
   "execution_count": 16,
   "metadata": {},
   "outputs": [
    {
     "data": {
      "text/plain": [
       "<matplotlib.image.AxesImage at 0x7f6694d07550>"
      ]
     },
     "execution_count": 16,
     "metadata": {},
     "output_type": "execute_result"
    },
    {
     "data": {
      "image/png": "[encoded data removed]",
      "text/plain": [
       "<Figure size 432x288 with 1 Axes>"
      ]
     },
     "metadata": {
      "needs_background": "light"
     },
     "output_type": "display_data"
    }
   ],
   "source": [
    "plt.imshow(image.squeeze(),cmap=\"gray\")"
   ]
  },
  {
   "cell_type": "markdown",
   "metadata": {},
   "source": [
    "### DataLoader"
   ]
  },
  {
   "cell_type": "code",
   "execution_count": 25,
   "metadata": {},
   "outputs": [],
   "source": [
    "images, label = next(iter(data_dl))"
   ]
  },
  {
   "cell_type": "code",
   "execution_count": 26,
   "metadata": {},
   "outputs": [
    {
     "data": {
      "text/plain": [
       "torch.Size([20, 1, 28, 28])"
      ]
     },
     "execution_count": 26,
     "metadata": {},
     "output_type": "execute_result"
    }
   ],
   "source": [
    "images.size()"
   ]
  },
  {
   "cell_type": "code",
   "execution_count": 27,
   "metadata": {},
   "outputs": [
    {
     "data": {
      "text/plain": [
       "torch.Size([20])"
      ]
     },
     "execution_count": 27,
     "metadata": {},
     "output_type": "execute_result"
    }
   ],
   "source": [
    "label.size()"
   ]
  },
  {
   "cell_type": "code",
   "execution_count": 28,
   "metadata": {},
   "outputs": [],
   "source": [
    "grid = torchvision.utils.make_grid(images, nrow=10)"
   ]
  },
  {
   "cell_type": "code",
   "execution_count": 29,
   "metadata": {},
   "outputs": [
    {
     "data": {
      "text/plain": [
       "torch.Size([3, 62, 302])"
      ]
     },
     "execution_count": 29,
     "metadata": {},
     "output_type": "execute_result"
    }
   ],
   "source": [
    "grid.size()"
   ]
  },
  {
   "cell_type": "code",
   "execution_count": 30,
   "metadata": {},
   "outputs": [
    {
     "data": {
      "text/plain": [
       "<matplotlib.image.AxesImage at 0x7f66941f14a8>"
      ]
     },
     "execution_count": 30,
     "metadata": {},
     "output_type": "execute_result"
    },
    {
     "data": {
      "image/png": "[encoded data removed]",
      "text/plain": [
       "<Figure size 1080x1080 with 1 Axes>"
      ]
     },
     "metadata": {
      "needs_background": "light"
     },
     "output_type": "display_data"
    }
   ],
   "source": [
    "plt.figure(figsize=(15,15))\n",
    "plt.imshow(np.transpose(grid, (1,2,0)))"
   ]
  },
  {
   "cell_type": "code",
   "execution_count": 32,
   "metadata": {},
   "outputs": [
    {
     "data": {
      "text/plain": [
       "<matplotlib.image.AxesImage at 0x7f6693eb0208>"
      ]
     },
     "execution_count": 32,
     "metadata": {},
     "output_type": "execute_result"
    },
    {
     "data": {
      "image/png": "[encoded data removed]",
      "text/plain": [
       "<Figure size 1080x1080 with 1 Axes>"
      ]
     },
     "metadata": {
      "needs_background": "light"
     },
     "output_type": "display_data"
    }
   ],
   "source": [
    "plt.figure(figsize=(15,15))\n",
    "plt.imshow(grid.permute(1,2,0))"
   ]
  },
  {
   "cell_type": "markdown",
   "metadata": {},
   "source": [
    "## Neural Network"
   ]
  },
  {
   "cell_type": "markdown",
   "metadata": {},
   "source": [
    "> 1. Extend the `nn.Module` base class\n",
    "> 2. Define layers as class attributes\n",
    "> 3. Implement the `forward()` method"
   ]
  },
  {
   "cell_type": "code",
   "execution_count": 6,
   "metadata": {},
   "outputs": [],
   "source": [
    "class SampleCNN(nn.Module):\n",
    "    def __init__(self):\n",
    "        super().__init__()\n",
    "        self.conv1 = nn.Conv2d(1,6,5)\n",
    "        self.conv2 = nn.Conv2d(6,12,5)\n",
    " \n",
    "        self.fc1 = nn.Linear(12*4*4, 120) \n",
    "        self.fc2 = nn.Linear(120, 60) \n",
    "        self.out = nn.Linear(60, 10)\n",
    "        \n",
    "    def forward(self, x):\n",
    "        \n",
    "        x = self.conv1(x)\n",
    "        x = F.relu(x)\n",
    "        x = F.max_pool2d(x, kernel_size=2, stride=2)\n",
    "        \n",
    "        x = self.conv2(x)\n",
    "        x = F.relu(x)\n",
    "        x = F.max_pool2d(x, kernel_size=2, stride=2)\n",
    "        \n",
    "        x = x.view(-1, 12*4*4)\n",
    "        x = self.fc1(x)\n",
    "        x = F.relu(x)\n",
    "        x = self.fc2(x)\n",
    "        x = F.relu(x)\n",
    "        x = self.out(x)\n",
    "        #x = F.softmax(x, dim=1)\n",
    "\n",
    "        return x"
   ]
  },
  {
   "cell_type": "code",
   "execution_count": 55,
   "metadata": {},
   "outputs": [],
   "source": [
    "net = SampleCNN()"
   ]
  },
  {
   "cell_type": "code",
   "execution_count": 56,
   "metadata": {},
   "outputs": [
    {
     "data": {
      "text/plain": [
       "SampleCNN(\n",
       "  (conv1): Conv2d(1, 6, kernel_size=(5, 5), stride=(1, 1))\n",
       "  (conv2): Conv2d(6, 12, kernel_size=(5, 5), stride=(1, 1))\n",
       "  (fc1): Linear(in_features=192, out_features=120, bias=True)\n",
       "  (fc2): Linear(in_features=120, out_features=60, bias=True)\n",
       "  (out): Linear(in_features=60, out_features=10, bias=True)\n",
       ")"
      ]
     },
     "execution_count": 56,
     "metadata": {},
     "output_type": "execute_result"
    }
   ],
   "source": [
    "net"
   ]
  },
  {
   "cell_type": "code",
   "execution_count": 38,
   "metadata": {},
   "outputs": [
    {
     "data": {
      "text/plain": [
       "Parameter containing:\n",
       "tensor([[[[-1.4235e-02, -1.2056e-01, -1.9503e-01,  5.1249e-02, -1.0233e-02],\n",
       "          [ 7.2625e-02,  6.0955e-02,  8.0624e-02,  6.4345e-02, -3.1542e-02],\n",
       "          [-9.1273e-03,  8.7983e-02, -1.2143e-02,  1.4761e-01,  1.0614e-01],\n",
       "          [ 1.0964e-02, -1.7896e-02,  1.5588e-01,  1.7097e-01, -1.6070e-01],\n",
       "          [-1.0009e-01,  4.1335e-02, -1.8589e-01, -8.4157e-02, -1.8729e-01]]],\n",
       "\n",
       "\n",
       "        [[[-1.0471e-01, -1.8119e-01, -1.5301e-01,  1.1622e-01,  5.6573e-02],\n",
       "          [-3.0975e-02, -1.9177e-01, -1.9091e-01, -4.0877e-03,  2.5865e-03],\n",
       "          [-1.9646e-01, -4.3966e-03,  8.4303e-02, -1.2827e-01, -4.3744e-02],\n",
       "          [-1.5605e-01, -5.1939e-02,  8.4544e-02,  9.1923e-02, -1.6217e-01],\n",
       "          [-8.2174e-02, -7.9102e-02, -8.4358e-02,  9.5897e-02,  1.9789e-01]]],\n",
       "\n",
       "\n",
       "        [[[ 1.6713e-02,  1.4351e-01,  2.8280e-03,  2.6159e-04, -1.7083e-01],\n",
       "          [ 1.3111e-01,  1.0493e-01,  1.5118e-01,  3.7053e-02,  2.3867e-02],\n",
       "          [ 1.7716e-01, -8.5104e-03, -1.7793e-01,  4.9183e-02, -1.8712e-01],\n",
       "          [ 1.8617e-01, -1.9793e-01,  9.0931e-02,  2.1404e-02, -1.5128e-01],\n",
       "          [-1.1737e-01,  4.9495e-02, -5.7475e-02, -4.9680e-02, -1.0466e-02]]],\n",
       "\n",
       "\n",
       "        [[[-1.4087e-02,  3.8730e-03, -1.0774e-01,  1.1481e-02,  1.8030e-02],\n",
       "          [ 3.8585e-02,  4.0933e-05, -9.5032e-02,  1.1864e-01, -8.6145e-02],\n",
       "          [ 6.8327e-02,  1.7317e-01, -1.8775e-01, -6.4209e-02, -3.4125e-02],\n",
       "          [ 9.2825e-02, -9.6776e-02, -4.9091e-02, -3.9912e-02,  1.0567e-01],\n",
       "          [ 7.1105e-02,  8.7806e-02,  2.3052e-02,  1.0314e-01,  6.5846e-02]]],\n",
       "\n",
       "\n",
       "        [[[-4.9479e-03, -1.5628e-01,  8.2274e-02, -1.0999e-01, -1.3213e-01],\n",
       "          [-1.7600e-01, -1.6733e-01,  4.8238e-02, -5.2861e-02, -1.9322e-01],\n",
       "          [-1.9768e-02,  1.8600e-01,  1.1366e-01, -3.5670e-02, -1.2431e-01],\n",
       "          [-1.1407e-01, -1.1752e-01,  2.3989e-02,  1.9316e-01,  9.1556e-02],\n",
       "          [ 1.2822e-02, -1.8982e-01,  8.7946e-02,  1.8295e-02, -4.5580e-02]]],\n",
       "\n",
       "\n",
       "        [[[-5.3738e-02,  7.5848e-02,  1.6555e-01, -1.9701e-01, -7.3444e-02],\n",
       "          [ 1.6189e-01,  5.0522e-03, -9.2619e-02,  1.2900e-01,  9.7476e-02],\n",
       "          [ 6.8816e-02,  4.9404e-02, -1.8633e-01, -1.6327e-01,  5.7321e-02],\n",
       "          [ 1.1215e-01, -1.7578e-01,  1.6581e-01, -1.9361e-01, -4.2333e-02],\n",
       "          [-3.1380e-02,  1.4062e-01, -3.6694e-02,  5.2149e-02,  1.6590e-01]]]], requires_grad=True)"
      ]
     },
     "execution_count": 38,
     "metadata": {},
     "output_type": "execute_result"
    }
   ],
   "source": [
    "net.conv1.weight"
   ]
  },
  {
   "cell_type": "code",
   "execution_count": 40,
   "metadata": {},
   "outputs": [
    {
     "data": {
      "text/plain": [
       "torch.Size([6, 1, 5, 5])"
      ]
     },
     "execution_count": 40,
     "metadata": {},
     "output_type": "execute_result"
    }
   ],
   "source": [
    "net.conv1.weight.shape"
   ]
  },
  {
   "cell_type": "code",
   "execution_count": 43,
   "metadata": {},
   "outputs": [
    {
     "name": "stdout",
     "output_type": "stream",
     "text": [
      "conv1.weight \t\t torch.Size([6, 1, 5, 5])\n",
      "conv1.bias \t\t torch.Size([6])\n",
      "conv2.weight \t\t torch.Size([12, 6, 5, 5])\n",
      "conv2.bias \t\t torch.Size([12])\n",
      "fc1.weight \t\t torch.Size([120, 192])\n",
      "fc1.bias \t\t torch.Size([120])\n",
      "fc2.weight \t\t torch.Size([60, 120])\n",
      "fc2.bias \t\t torch.Size([60])\n",
      "out.weight \t\t torch.Size([10, 60])\n",
      "out.bias \t\t torch.Size([10])\n"
     ]
    }
   ],
   "source": [
    "for name,params in net.named_parameters():\n",
    "    print(name, '\\t\\t', params.shape)"
   ]
  },
  {
   "cell_type": "code",
   "execution_count": 49,
   "metadata": {},
   "outputs": [
    {
     "name": "stdout",
     "output_type": "stream",
     "text": [
      "torch.Size([6, 1, 5, 5])\n",
      "torch.Size([6])\n",
      "torch.Size([12, 6, 5, 5])\n",
      "torch.Size([12])\n",
      "torch.Size([120, 192])\n",
      "torch.Size([120])\n",
      "torch.Size([60, 120])\n",
      "torch.Size([60])\n",
      "torch.Size([10, 60])\n",
      "torch.Size([10])\n"
     ]
    }
   ],
   "source": [
    "for param in net.parameters():\n",
    "    print(param.shape)"
   ]
  },
  {
   "cell_type": "markdown",
   "metadata": {},
   "source": [
    "### callable"
   ]
  },
  {
   "cell_type": "markdown",
   "metadata": {},
   "source": [
    "Instead of calling the forward() method directly, we call the object instance. After the object instance is called, the `__call__()` method is invoked under the hood, and the `__call__()` in turn invokes the forward() method. This applies to all PyTorch neural network modules, namely, networks and layers."
   ]
  },
  {
   "cell_type": "markdown",
   "metadata": {},
   "source": [
    "## Forward Propagation"
   ]
  },
  {
   "cell_type": "markdown",
   "metadata": {},
   "source": [
    "> 1. Test the forward pass use a single image sample\n",
    "> 2. A batch of images"
   ]
  },
  {
   "cell_type": "code",
   "execution_count": 68,
   "metadata": {},
   "outputs": [
    {
     "data": {
      "text/plain": [
       "<torch.autograd.grad_mode.set_grad_enabled at 0x7f66933a9c88>"
      ]
     },
     "execution_count": 68,
     "metadata": {},
     "output_type": "execute_result"
    }
   ],
   "source": [
    "# close the dynamic computing graph feature\n",
    "torch.set_grad_enabled(False)"
   ]
  },
  {
   "cell_type": "code",
   "execution_count": 84,
   "metadata": {},
   "outputs": [],
   "source": [
    "net01 = SampleCNN()"
   ]
  },
  {
   "cell_type": "code",
   "execution_count": 85,
   "metadata": {},
   "outputs": [
    {
     "data": {
      "text/plain": [
       "torch.Size([1, 28, 28])"
      ]
     },
     "execution_count": 85,
     "metadata": {},
     "output_type": "execute_result"
    }
   ],
   "source": [
    "sample = next(iter(train_set))\n",
    "image, label = sample\n",
    "image.shape"
   ]
  },
  {
   "cell_type": "code",
   "execution_count": 86,
   "metadata": {},
   "outputs": [
    {
     "data": {
      "text/plain": [
       "torch.Size([1, 1, 28, 28])"
      ]
     },
     "execution_count": 86,
     "metadata": {},
     "output_type": "execute_result"
    }
   ],
   "source": [
    "image.unsqueeze_(0).shape"
   ]
  },
  {
   "cell_type": "code",
   "execution_count": 87,
   "metadata": {},
   "outputs": [],
   "source": [
    "pred = net01(image)"
   ]
  },
  {
   "cell_type": "code",
   "execution_count": 88,
   "metadata": {},
   "outputs": [
    {
     "data": {
      "text/plain": [
       "tensor([[ 0.0921, -0.0380,  0.0970,  0.0033,  0.0017, -0.0956,  0.1186,  0.1088, -0.1152, -0.0387]])"
      ]
     },
     "execution_count": 88,
     "metadata": {},
     "output_type": "execute_result"
    }
   ],
   "source": [
    "pred"
   ]
  },
  {
   "cell_type": "code",
   "execution_count": 89,
   "metadata": {},
   "outputs": [
    {
     "data": {
      "text/plain": [
       "tensor(6)"
      ]
     },
     "execution_count": 89,
     "metadata": {},
     "output_type": "execute_result"
    }
   ],
   "source": [
    "pred.argmax()"
   ]
  },
  {
   "cell_type": "code",
   "execution_count": 90,
   "metadata": {},
   "outputs": [
    {
     "data": {
      "text/plain": [
       "tensor(5)"
      ]
     },
     "execution_count": 90,
     "metadata": {},
     "output_type": "execute_result"
    }
   ],
   "source": [
    "label"
   ]
  },
  {
   "cell_type": "code",
   "execution_count": 91,
   "metadata": {},
   "outputs": [
    {
     "name": "stderr",
     "output_type": "stream",
     "text": [
      "/root/anaconda3/lib/python3.6/site-packages/ipykernel_launcher.py:1: UserWarning: Implicit dimension choice for softmax has been deprecated. Change the call to include dim=X as an argument.\n",
      "  \"\"\"Entry point for launching an IPython kernel.\n"
     ]
    },
    {
     "data": {
      "text/plain": [
       "tensor([[0.1078, 0.0947, 0.1084, 0.0987, 0.0985, 0.0894, 0.1107, 0.1096, 0.0876, 0.0946]])"
      ]
     },
     "execution_count": 91,
     "metadata": {},
     "output_type": "execute_result"
    }
   ],
   "source": [
    "F.softmax(pred)"
   ]
  },
  {
   "cell_type": "markdown",
   "metadata": {},
   "source": [
    "### Batch of images"
   ]
  },
  {
   "cell_type": "code",
   "execution_count": 92,
   "metadata": {},
   "outputs": [],
   "source": [
    "images,labels = next(iter(data_dl))"
   ]
  },
  {
   "cell_type": "code",
   "execution_count": 93,
   "metadata": {},
   "outputs": [
    {
     "data": {
      "text/plain": [
       "torch.Size([20, 1, 28, 28])"
      ]
     },
     "execution_count": 93,
     "metadata": {},
     "output_type": "execute_result"
    }
   ],
   "source": [
    "images.shape"
   ]
  },
  {
   "cell_type": "code",
   "execution_count": 94,
   "metadata": {},
   "outputs": [],
   "source": [
    "pred = net01(images)"
   ]
  },
  {
   "cell_type": "code",
   "execution_count": 95,
   "metadata": {},
   "outputs": [
    {
     "data": {
      "text/plain": [
       "torch.Size([20, 10])"
      ]
     },
     "execution_count": 95,
     "metadata": {},
     "output_type": "execute_result"
    }
   ],
   "source": [
    "pred.shape"
   ]
  },
  {
   "cell_type": "code",
   "execution_count": 96,
   "metadata": {},
   "outputs": [
    {
     "data": {
      "text/plain": [
       "tensor([6, 6, 7, 6, 6, 7, 6, 6, 6, 6, 6, 7, 6, 6, 6, 6, 6, 6, 6, 6])"
      ]
     },
     "execution_count": 96,
     "metadata": {},
     "output_type": "execute_result"
    }
   ],
   "source": [
    "pred.argmax(dim=1)"
   ]
  },
  {
   "cell_type": "code",
   "execution_count": 100,
   "metadata": {},
   "outputs": [
    {
     "data": {
      "text/plain": [
       "tensor([7, 0, 9, 5, 0, 6, 3, 3, 1, 2, 2, 3, 1, 6, 7, 4, 4, 8, 4, 3])"
      ]
     },
     "execution_count": 100,
     "metadata": {},
     "output_type": "execute_result"
    }
   ],
   "source": [
    "labels"
   ]
  },
  {
   "cell_type": "code",
   "execution_count": 98,
   "metadata": {},
   "outputs": [
    {
     "data": {
      "text/plain": [
       "tensor([0, 0, 0, 0, 0, 0, 0, 0, 0, 0, 0, 0, 0, 1, 0, 0, 0, 0, 0, 0], dtype=torch.uint8)"
      ]
     },
     "execution_count": 98,
     "metadata": {},
     "output_type": "execute_result"
    }
   ],
   "source": [
    "pred.argmax(dim=1) == labels"
   ]
  },
  {
   "cell_type": "code",
   "execution_count": 99,
   "metadata": {},
   "outputs": [
    {
     "data": {
      "text/plain": [
       "tensor(1)"
      ]
     },
     "execution_count": 99,
     "metadata": {},
     "output_type": "execute_result"
    }
   ],
   "source": [
    "(pred.argmax(dim=1) == labels).sum()"
   ]
  },
  {
   "cell_type": "code",
   "execution_count": 102,
   "metadata": {},
   "outputs": [
    {
     "data": {
      "text/plain": [
       "tensor(1)"
      ]
     },
     "execution_count": 102,
     "metadata": {},
     "output_type": "execute_result"
    }
   ],
   "source": [
    "pred.argmax(dim=1).eq(labels).sum()"
   ]
  },
  {
   "cell_type": "code",
   "execution_count": 110,
   "metadata": {},
   "outputs": [],
   "source": [
    "def sample_acc(preds, labels):\n",
    "    return float(preds.argmax(dim=1).eq(labels).sum())/len(labels)"
   ]
  },
  {
   "cell_type": "code",
   "execution_count": 111,
   "metadata": {},
   "outputs": [
    {
     "name": "stdout",
     "output_type": "stream",
     "text": [
      "0.05\n"
     ]
    }
   ],
   "source": [
    "print(sample_acc(pred, labels))"
   ]
  },
  {
   "cell_type": "markdown",
   "metadata": {},
   "source": [
    "## Part3： Training"
   ]
  },
  {
   "cell_type": "code",
   "execution_count": 184,
   "metadata": {},
   "outputs": [
    {
     "data": {
      "text/plain": [
       "<torch.autograd.grad_mode.set_grad_enabled at 0x7f6693cfddd8>"
      ]
     },
     "execution_count": 184,
     "metadata": {},
     "output_type": "execute_result"
    }
   ],
   "source": [
    "torch.set_grad_enabled(True)"
   ]
  },
  {
   "cell_type": "code",
   "execution_count": 185,
   "metadata": {},
   "outputs": [],
   "source": [
    "net03 = SampleCNN()"
   ]
  },
  {
   "cell_type": "code",
   "execution_count": 186,
   "metadata": {},
   "outputs": [
    {
     "data": {
      "text/plain": [
       "SampleCNN(\n",
       "  (conv1): Conv2d(1, 6, kernel_size=(5, 5), stride=(1, 1))\n",
       "  (conv2): Conv2d(6, 12, kernel_size=(5, 5), stride=(1, 1))\n",
       "  (fc1): Linear(in_features=192, out_features=120, bias=True)\n",
       "  (fc2): Linear(in_features=120, out_features=60, bias=True)\n",
       "  (out): Linear(in_features=60, out_features=10, bias=True)\n",
       ")"
      ]
     },
     "execution_count": 186,
     "metadata": {},
     "output_type": "execute_result"
    }
   ],
   "source": [
    "net03"
   ]
  },
  {
   "cell_type": "code",
   "execution_count": 187,
   "metadata": {},
   "outputs": [],
   "source": [
    "train_ld = DataLoader(train_set, batch_size=100)"
   ]
  },
  {
   "cell_type": "code",
   "execution_count": 188,
   "metadata": {},
   "outputs": [],
   "source": [
    "images, labels = next(iter(train_ld))"
   ]
  },
  {
   "cell_type": "markdown",
   "metadata": {},
   "source": [
    "### Loss Calculate"
   ]
  },
  {
   "cell_type": "code",
   "execution_count": 189,
   "metadata": {},
   "outputs": [
    {
     "name": "stdout",
     "output_type": "stream",
     "text": [
      "tensor(2.3059, grad_fn=<NllLossBackward>)\n"
     ]
    }
   ],
   "source": [
    "preds = net03(images)\n",
    "loss = F.cross_entropy(preds, labels)\n",
    "print(loss)"
   ]
  },
  {
   "cell_type": "code",
   "execution_count": 190,
   "metadata": {},
   "outputs": [
    {
     "data": {
      "text/plain": [
       "0.09"
      ]
     },
     "execution_count": 190,
     "metadata": {},
     "output_type": "execute_result"
    }
   ],
   "source": [
    "sample_acc(preds, labels)"
   ]
  },
  {
   "cell_type": "markdown",
   "metadata": {},
   "source": [
    "### Update grad"
   ]
  },
  {
   "cell_type": "code",
   "execution_count": 191,
   "metadata": {},
   "outputs": [
    {
     "name": "stdout",
     "output_type": "stream",
     "text": [
      "None\n"
     ]
    }
   ],
   "source": [
    "print(net03.conv1.weight.grad)"
   ]
  },
  {
   "cell_type": "code",
   "execution_count": 198,
   "metadata": {},
   "outputs": [],
   "source": [
    "loss.backward()"
   ]
  },
  {
   "cell_type": "code",
   "execution_count": 193,
   "metadata": {},
   "outputs": [
    {
     "name": "stdout",
     "output_type": "stream",
     "text": [
      "tensor([[[[-4.9738e-04, -5.6704e-04, -3.3855e-04,  5.5590e-05,  1.5286e-04],\n",
      "          [-7.6897e-04, -4.5558e-04, -3.7744e-04, -2.9794e-04, -8.2105e-05],\n",
      "          [-4.1271e-04, -4.6933e-04, -3.5661e-04,  1.3576e-04,  8.1290e-05],\n",
      "          [-2.8216e-04, -5.4808e-04, -3.3131e-04,  1.4307e-04, -7.4835e-05],\n",
      "          [-2.5146e-04, -6.3728e-04, -3.7488e-04, -1.6532e-04, -3.7051e-04]]],\n",
      "\n",
      "\n",
      "        [[[ 7.0550e-05, -5.4074e-05, -7.4203e-05,  3.7618e-05,  4.6334e-05],\n",
      "          [ 6.4373e-05,  2.0212e-05, -2.0804e-05,  3.1059e-05,  1.8464e-05],\n",
      "          [ 5.2170e-05,  3.7096e-06, -4.7322e-05,  2.7825e-05, -3.9344e-05],\n",
      "          [ 7.0859e-05, -1.0576e-05,  7.3048e-05,  1.4482e-04,  5.7067e-05],\n",
      "          [-5.6321e-05,  3.7066e-05,  2.4291e-04,  3.2750e-04,  2.5308e-04]]],\n",
      "\n",
      "\n",
      "        [[[ 3.7896e-05,  5.2364e-04,  6.1473e-04,  2.9012e-04, -1.2164e-04],\n",
      "          [ 3.2845e-04,  5.7917e-04,  3.6467e-04, -3.7496e-04, -5.1208e-04],\n",
      "          [ 8.1104e-04,  5.2869e-04,  7.6739e-06, -6.7026e-04, -2.7942e-04],\n",
      "          [ 7.8463e-04,  3.0968e-04, -4.2535e-05, -5.4609e-04, -1.1827e-04],\n",
      "          [ 6.4764e-05, -8.6068e-05, -3.5586e-04, -6.7620e-04, -9.3264e-05]]],\n",
      "\n",
      "\n",
      "        [[[-3.2625e-04, -8.2400e-04, -6.0435e-04, -1.0595e-03, -1.4962e-04],\n",
      "          [-1.0713e-04, -3.1918e-04,  9.4937e-06, -4.0233e-04, -2.0419e-04],\n",
      "          [-6.2125e-05, -1.2874e-04,  2.5759e-05, -2.0311e-04,  9.9925e-07],\n",
      "          [ 1.8178e-07,  1.1321e-04, -3.5721e-04, -5.8705e-04, -7.3522e-05],\n",
      "          [-7.0222e-05, -9.9567e-06, -4.0559e-04, -1.0668e-03, -1.5898e-04]]],\n",
      "\n",
      "\n",
      "        [[[ 2.9992e-04,  1.1123e-04,  3.1576e-04,  7.2333e-05,  4.2303e-04],\n",
      "          [ 2.4442e-04, -1.6245e-04, -2.2376e-05, -2.1784e-04,  3.5248e-04],\n",
      "          [-5.2531e-05, -3.9529e-04, -3.9484e-04, -1.2640e-04,  1.3941e-04],\n",
      "          [-3.4240e-04, -5.7197e-04, -5.9327e-04, -1.7584e-04,  1.3496e-04],\n",
      "          [-6.5674e-05, -3.6741e-04, -4.0452e-04, -1.0006e-04, -1.3679e-04]]],\n",
      "\n",
      "\n",
      "        [[[-2.6332e-04,  2.6626e-04,  4.3814e-04,  7.0385e-04,  5.0737e-04],\n",
      "          [-4.0537e-04,  4.6912e-04,  2.9009e-04,  6.1964e-04,  5.7841e-04],\n",
      "          [-2.6274e-04,  4.2398e-04,  4.1946e-04,  5.5238e-04,  3.4178e-04],\n",
      "          [-2.0375e-04,  4.9369e-04,  1.2837e-04,  4.0064e-04,  2.2426e-04],\n",
      "          [ 2.9246e-04,  4.9968e-04, -1.8556e-04,  2.8914e-04,  3.9505e-04]]]])\n"
     ]
    }
   ],
   "source": [
    "print(net03.conv1.weight.grad)"
   ]
  },
  {
   "cell_type": "code",
   "execution_count": 194,
   "metadata": {},
   "outputs": [],
   "source": [
    "#opt = torch.optim.SGD(net03.parameters(), lr=0.1)\n",
    "opt = torch.optim.Adam(net03.parameters(), lr=0.01)"
   ]
  },
  {
   "cell_type": "code",
   "execution_count": 199,
   "metadata": {},
   "outputs": [],
   "source": [
    "opt.step() # Update the weights by just a function"
   ]
  },
  {
   "cell_type": "markdown",
   "metadata": {},
   "source": [
    "#### once more"
   ]
  },
  {
   "cell_type": "code",
   "execution_count": 200,
   "metadata": {},
   "outputs": [
    {
     "name": "stdout",
     "output_type": "stream",
     "text": [
      "tensor(2.3413, grad_fn=<NllLossBackward>)\n"
     ]
    }
   ],
   "source": [
    "preds = net03(images)\n",
    "loss = F.cross_entropy(preds, labels)\n",
    "print(loss)"
   ]
  },
  {
   "cell_type": "code",
   "execution_count": 201,
   "metadata": {},
   "outputs": [
    {
     "data": {
      "text/plain": [
       "0.14"
      ]
     },
     "execution_count": 201,
     "metadata": {},
     "output_type": "execute_result"
    }
   ],
   "source": [
    "sample_acc(preds, labels)"
   ]
  },
  {
   "cell_type": "code",
   "execution_count": 203,
   "metadata": {},
   "outputs": [
    {
     "name": "stdout",
     "output_type": "stream",
     "text": [
      "loss1: 2.2981719970703125\n",
      "loss2: 2.2795302867889404\n"
     ]
    }
   ],
   "source": [
    "network = SampleCNN()\n",
    "\n",
    "train_loader = torch.utils.data.DataLoader(train_set, batch_size=100)\n",
    "optimizer = torch.optim.Adam(network.parameters(), lr=0.01)\n",
    "\n",
    "batch = next(iter(train_loader)) # Get Batch\n",
    "images, labels = batch\n",
    "\n",
    "preds = network(images) # Pass Batch\n",
    "loss = F.cross_entropy(preds, labels) # Calculate Loss\n",
    "\n",
    "loss.backward() # Calculate Gradients\n",
    "optimizer.step() # Update Weights\n",
    "\n",
    "print('loss1:', loss.item())\n",
    "preds = network(images)\n",
    "loss = F.cross_entropy(preds, labels)\n",
    "print('loss2:', loss.item())"
   ]
  },
  {
   "cell_type": "code",
   "execution_count": 218,
   "metadata": {},
   "outputs": [
    {
     "name": "stdout",
     "output_type": "stream",
     "text": [
      "2.148524522781372\n"
     ]
    }
   ],
   "source": [
    "loss.backward() # Calculate Gradients\n",
    "optimizer.step() # Update Weights\n",
    "\n",
    "preds = network(images)\n",
    "loss = F.cross_entropy(preds, labels)\n",
    "print(loss.item())"
   ]
  },
  {
   "cell_type": "code",
   "execution_count": null,
   "metadata": {},
   "outputs": [],
   "source": []
  },
  {
   "cell_type": "code",
   "execution_count": null,
   "metadata": {},
   "outputs": [],
   "source": []
  },
  {
   "cell_type": "code",
   "execution_count": null,
   "metadata": {},
   "outputs": [],
   "source": []
  },
  {
   "cell_type": "markdown",
   "metadata": {},
   "source": [
    "### Training Loop"
   ]
  },
  {
   "cell_type": "code",
   "execution_count": null,
   "metadata": {},
   "outputs": [],
   "source": []
  },
  {
   "cell_type": "code",
   "execution_count": 58,
   "metadata": {},
   "outputs": [],
   "source": [
    "def sample_acc(preds, labels):\n",
    "    return float(preds.argmax(dim=1).eq(labels).sum())/len(labels)"
   ]
  },
  {
   "cell_type": "code",
   "execution_count": 59,
   "metadata": {},
   "outputs": [],
   "source": [
    "class SampleCNN02(nn.Module):\n",
    "    def __init__(self):\n",
    "        super().__init__()\n",
    "        self.conv1 = nn.Conv2d(1, 32, kernel_size=3, stride=2, padding=1)\n",
    "        self.conv2 = nn.Conv2d(32, 64, kernel_size=3, stride=2, padding=1)\n",
    "        self.conv3 = nn.Conv2d(64, 64, kernel_size=3, stride=2, padding=1)\n",
    "\n",
    "    def forward(self, xb):\n",
    "        xb = xb.view(-1, 1, 28, 28)\n",
    "        xb = F.relu(self.conv1(xb))\n",
    "        xb = F.relu(self.conv2(xb))\n",
    "        xb = F.relu(self.conv3(xb))\n",
    "        xb = F.avg_pool2d(xb, 4)\n",
    "        return xb.view(-1, xb.size(1))"
   ]
  },
  {
   "cell_type": "code",
   "execution_count": 45,
   "metadata": {},
   "outputs": [],
   "source": [
    "def fit(epochs, train_ld, model, opt):\n",
    "    for i in range(epochs):\n",
    "        for j, (images, labels) in enumerate(train_ld):\n",
    "            preds = model(images)\n",
    "            loss =  F.cross_entropy(preds, labels)\n",
    "            acc = sample_acc(preds, labels)\n",
    "            \n",
    "            opt.zero_grad()    \n",
    "            loss.backward()\n",
    "            opt.step()\n",
    "            \n",
    "            if (j+1) % 100 == 0:\n",
    "                    print ('Epoch : %d/%d,   Loss: %.4f  Acc: %.4f' \n",
    "                           %(j+1, len(train_ld)/64, loss, acc))\n",
    "            \n",
    "        #print(\"Epoch %d: loss is %f | Accuracy is %f\" %(i, loss, acc))"
   ]
  },
  {
   "cell_type": "markdown",
   "metadata": {},
   "source": [
    "#### 如下，使用小批量数据，查看模型的拟合性，是否能够完全拟合模型"
   ]
  },
  {
   "cell_type": "code",
   "execution_count": null,
   "metadata": {},
   "outputs": [],
   "source": [
    "sampeData = DataLoader(train_set, batch_size=1000,shuffle=True)"
   ]
  },
  {
   "cell_type": "code",
   "execution_count": null,
   "metadata": {},
   "outputs": [],
   "source": [
    "images, labels = next(iter(sampeData))"
   ]
  },
  {
   "cell_type": "code",
   "execution_count": 64,
   "metadata": {},
   "outputs": [],
   "source": [
    "def fit_sample(epochs, images, labels, model, opt):\n",
    "    for i in range(epochs):\n",
    "        preds = model(images)\n",
    "        loss =  F.cross_entropy(preds, labels)\n",
    "        acc = sample_acc(preds, labels)\n",
    "\n",
    "        opt.zero_grad()    \n",
    "        loss.backward()\n",
    "        opt.step()\n",
    "        if (i+1) % 50 == 0:\n",
    "            print ('Epoch : %d/%d,   Loss: %.4f  Acc: %.4f' \n",
    "                   %(i+1, epochs, loss, acc))\n",
    "\n",
    "        #print(\"Epoch %d: loss is %f | Accuracy is %f\" %(i, loss, acc))"
   ]
  },
  {
   "cell_type": "code",
   "execution_count": 65,
   "metadata": {},
   "outputs": [],
   "source": [
    "net04 = SampleCNN02()\n",
    "#data = DataLoader(train_set, batch_size=64,shuffle=True)\n",
    "opt = torch.optim.Adam(net04.parameters(), lr=0.01)\n",
    "#opt = torch.optim.SGD(net04.parameters(), lr=0.001, momentum=0.9)"
   ]
  },
  {
   "cell_type": "code",
   "execution_count": 66,
   "metadata": {},
   "outputs": [
    {
     "name": "stdout",
     "output_type": "stream",
     "text": [
      "Epoch : 49/1000,   Loss: 2.2879  Acc: 0.1230\n",
      "Epoch : 99/1000,   Loss: 2.2137  Acc: 0.1920\n",
      "Epoch : 149/1000,   Loss: 2.1410  Acc: 0.2300\n",
      "Epoch : 199/1000,   Loss: 2.0308  Acc: 0.2800\n",
      "Epoch : 249/1000,   Loss: 1.8836  Acc: 0.3520\n",
      "Epoch : 299/1000,   Loss: 1.6994  Acc: 0.4250\n",
      "Epoch : 349/1000,   Loss: 1.5369  Acc: 0.4900\n",
      "Epoch : 399/1000,   Loss: 1.3430  Acc: 0.5570\n",
      "Epoch : 449/1000,   Loss: 1.1190  Acc: 0.6550\n",
      "Epoch : 499/1000,   Loss: 1.0680  Acc: 0.6590\n",
      "Epoch : 549/1000,   Loss: 0.8058  Acc: 0.7830\n",
      "Epoch : 599/1000,   Loss: 0.6816  Acc: 0.8150\n",
      "Epoch : 649/1000,   Loss: 0.5530  Acc: 0.8660\n",
      "Epoch : 699/1000,   Loss: 0.4514  Acc: 0.9050\n",
      "Epoch : 749/1000,   Loss: 0.3913  Acc: 0.9220\n",
      "Epoch : 799/1000,   Loss: 0.2710  Acc: 0.9730\n",
      "Epoch : 849/1000,   Loss: 0.2117  Acc: 0.9910\n",
      "Epoch : 899/1000,   Loss: 0.1662  Acc: 0.9960\n",
      "Epoch : 949/1000,   Loss: 0.1307  Acc: 0.9980\n",
      "Epoch : 999/1000,   Loss: 0.1040  Acc: 0.9990\n"
     ]
    }
   ],
   "source": [
    "fit_sample(1000, images, labels, net04, opt)"
   ]
  },
  {
   "cell_type": "code",
   "execution_count": 46,
   "metadata": {},
   "outputs": [],
   "source": [
    "\n",
    "class CNN(nn.Module):\n",
    "    def __init__(self):\n",
    "        super(CNN, self).__init__()\n",
    "        self.layer1 = nn.Sequential(\n",
    "            nn.Conv2d(1, 16, kernel_size=5, padding=2),\n",
    "            nn.BatchNorm2d(16),\n",
    "            nn.ReLU(),\n",
    "            nn.MaxPool2d(2))\n",
    "        self.layer2 = nn.Sequential(\n",
    "            nn.Conv2d(16, 32, kernel_size=5, padding=2),\n",
    "            nn.BatchNorm2d(32),\n",
    "            nn.ReLU(),\n",
    "            nn.MaxPool2d(2))\n",
    "        self.fc = nn.Linear(7*7*32, 10)\n",
    "        \n",
    "    def forward(self, x):\n",
    "        out = self.layer1(x)\n",
    "        out = self.layer2(out)\n",
    "        out = out.view(out.size(0), -1)\n",
    "        out = self.fc(out)\n",
    "        return out"
   ]
  },
  {
   "cell_type": "code",
   "execution_count": 47,
   "metadata": {},
   "outputs": [],
   "source": [
    "net05 = CNN()\n",
    "data = DataLoader(train_set, batch_size=64,shuffle=True)\n",
    "opt = torch.optim.Adam(net05.parameters(), lr=0.01)"
   ]
  },
  {
   "cell_type": "code",
   "execution_count": null,
   "metadata": {},
   "outputs": [
    {
     "name": "stdout",
     "output_type": "stream",
     "text": [
      "Epoch : 100/14,   Loss: 2.3035  Acc: 0.0625\n",
      "Epoch : 200/14,   Loss: 2.3047  Acc: 0.0938\n",
      "Epoch : 300/14,   Loss: 2.3100  Acc: 0.0938\n"
     ]
    }
   ],
   "source": [
    "fit(1, data, net05, opt)"
   ]
  },
  {
   "cell_type": "code",
   "execution_count": null,
   "metadata": {},
   "outputs": [],
   "source": []
  }
 ],
 "metadata": {
  "kernelspec": {
   "display_name": "Python 3",
   "language": "python",
   "name": "python3"
  },
  "language_info": {
   "codemirror_mode": {
    "name": "ipython",
    "version": 3
   },
   "file_extension": ".py",
   "mimetype": "text/x-python",
   "name": "python",
   "nbconvert_exporter": "python",
   "pygments_lexer": "ipython3",
   "version": "3.6.8"
  }
 },
 "nbformat": 4,
 "nbformat_minor": 4
}
