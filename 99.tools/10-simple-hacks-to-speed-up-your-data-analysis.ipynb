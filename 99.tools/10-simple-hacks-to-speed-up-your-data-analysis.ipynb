{
 "cells": [
  {
   "cell_type": "code",
   "execution_count": 1,
   "metadata": {
    "Collapsed": "false",
    "_kg_hide-input": false
   },
   "outputs": [],
   "source": [
    "from IPython.core.interactiveshell import InteractiveShell \n",
    "InteractiveShell.ast_node_interactivity = \"all\""
   ]
  },
  {
   "cell_type": "code",
   "execution_count": null,
   "metadata": {
    "Collapsed": "false",
    "_kg_hide-input": true,
    "_kg_hide-output": true
   },
   "outputs": [],
   "source": [
    "import os\n",
    "for dirname, _, filenames in os.walk('/kaggle/input'):\n",
    "    for filename in filenames:\n",
    "        print(os.path.join(dirname, filename))"
   ]
  },
  {
   "cell_type": "markdown",
   "metadata": {
    "Collapsed": "false"
   },
   "source": [
    "<div class=\"alert alert-block alert-warning\">\n",
    "\n",
    "## Update :  \n",
    "\n",
    "As a successor to this article, I am also curating a list of useful Python libraries that cab be pretty useful for ML tasks. The idea is to include libraries other than the well-known ones like pandas, sklearn, etc. Till now I have been able to include few of them but will be updating them over time. Here is the link to the Kernel:\n",
    "\n",
    "https://www.kaggle.com/parulpandey/useful-python-libraries-for-data-science?scriptVersionId=28473653"
   ]
  },
  {
   "cell_type": "markdown",
   "metadata": {
    "Collapsed": "false"
   },
   "source": [
    "# 10 Simple hacks to speed up your Data Analysis in Python"
   ]
  },
  {
   "cell_type": "markdown",
   "metadata": {
    "Collapsed": "false",
    "_cell_guid": "b1076dfc-b9ad-4769-8c92-a6c4dae69d19",
    "_uuid": "8f2839f25d086af736a60e9eeb907d3b93b6e0e5"
   },
   "source": [
    "Tips and Tricks, especially in the programming world, can be very useful. Sometimes a little hack can be both time and life-saving. A minor shortcut or add-on can sometimes prove to be a Godsend and can be a real productivity booster. So, here are some of my favourite tips and tricks that I have used and compiled together in the form of this article. Some may be fairly known and some may be new but I am sure they would come in pretty handy the next time you work on a Data Analysis project."
   ]
  },
  {
   "cell_type": "markdown",
   "metadata": {
    "Collapsed": "false",
    "_cell_guid": "79c7e3d0-c299-4dcb-8224-4455121ee9b0",
    "_uuid": "d629ff2d2480ee46fbb7e2d37f6b5fab8052498a"
   },
   "source": [
    "## 1. Pandas Profiling\n",
    "\n",
    "**Profiling** is a process that helps us in understanding our data  and  [**Pandas**](https://github.com/pandas-profiling/pandas-profiling)[**Profiling**](https://github.com/pandas-profiling/pandas-profiling)  is python package which does exactly that.  It is a simple and fast way to perform exploratory data analysis of a Pandas Dataframe.  The pandas`df.describe()`and  `df.info()functions` are normally used as a first step in the EDA process. However, it only gives a very basic overview of the data and doesn’t help much in the case of large data sets. The Pandas Profiling function, on the other hand, extends the pandas DataFrame  with`df.profile_report()`  for quick data analysis. It displays a lot of information with a single line of code and that too in an interactive HTML report.\n",
    "\n",
    "For a given dataset the pandas profiling package computes the following statistics:\n",
    "\n",
    "![](https://cdn-images-1.medium.com/max/800/1*T2iRcSpLLxXop7Naa4ln0g.png)\n",
    "\n",
    "Refer the  [documentation](https://pandas-profiling.github.io/pandas-profiling/docs/)  for more details and examples.[](http://)"
   ]
  },
  {
   "cell_type": "markdown",
   "metadata": {
    "Collapsed": "false"
   },
   "source": [
    "### Usage\n",
    "\n",
    "Let’s use the titanic dataset to demonstrate the capabilities of the versatile python profiler."
   ]
  },
  {
   "cell_type": "code",
   "execution_count": null,
   "metadata": {
    "Collapsed": "false"
   },
   "outputs": [],
   "source": [
    "import pandas as pd\n",
    "import pandas_profiling \n",
    "\n",
    "titanic_df = pd.read_csv('/kaggle/input/titanic/train.csv')"
   ]
  },
  {
   "cell_type": "markdown",
   "metadata": {
    "Collapsed": "false"
   },
   "source": [
    "To display the report in a Jupyter notebook, run the following code. This single line of code is all that you need to display the data profiling report in a Jupyter notebook. The report is pretty detailed including charts wherever necessary."
   ]
  },
  {
   "cell_type": "code",
   "execution_count": null,
   "metadata": {
    "Collapsed": "false"
   },
   "outputs": [],
   "source": [
    " titanic_df.profile_report()"
   ]
  },
  {
   "cell_type": "markdown",
   "metadata": {
    "Collapsed": "false"
   },
   "source": [
    "The report can also be exported into an interactive HTML file with the following code."
   ]
  },
  {
   "cell_type": "code",
   "execution_count": null,
   "metadata": {
    "Collapsed": "false"
   },
   "outputs": [],
   "source": [
    "profile = titanic_df.profile_report(title='Pandas Profiling Report')\n",
    "profile.to_file(output_file=\"Titanic data profiling.html\")"
   ]
  },
  {
   "cell_type": "markdown",
   "metadata": {
    "Collapsed": "false"
   },
   "source": [
    "## 2. Interactive Pandas' plots\n",
    "\n",
    "The **Pandas** library has a built-in `.plot()`  function as part of the DataFrame class. However,the visualisations rendered with this function aren't interactive and that makes it less appealing. On the contrary, the ease to plot charts with `pandas.DataFrame.plot()` function also cannot be ruled out. What if we could plot interactive plotly like charts with pandas without having to make major modifications to the code? Well, you can actually do that with the help of [**Cufflinks**](https://github.com/santosjorge/cufflinks) library.\n",
    "\n",
    "Cufflinks library binds the power of  [**plotly**](http://www.plot.ly/)  with the flexibility of  [pandas](http://pandas.pydata.org/)  for easy plotting. Let’s now see how we can install the library and get it working in pandas.\n",
    "\n",
    "### Usage\n",
    "\n"
   ]
  },
  {
   "cell_type": "code",
   "execution_count": null,
   "metadata": {
    "Collapsed": "false"
   },
   "outputs": [],
   "source": [
    "#importing Pandas \n",
    "import pandas as pd\n",
    "#importing plotly and cufflinks in offline mode\n",
    "import cufflinks as cf\n",
    "import plotly.offline\n",
    "cf.go_offline()\n",
    "cf.set_config_file(offline=False, world_readable=True)\n"
   ]
  },
  {
   "cell_type": "code",
   "execution_count": null,
   "metadata": {
    "Collapsed": "false"
   },
   "outputs": [],
   "source": [
    "titanic_df[['Pclass', 'Survived']].groupby(['Pclass'], as_index=False).mean().iplot(kind='bar')"
   ]
  },
  {
   "cell_type": "code",
   "execution_count": null,
   "metadata": {
    "Collapsed": "false"
   },
   "outputs": [],
   "source": [
    "titanic_df[['Sex','Survived']].groupby(['Sex']).mean().iplot(kind='barh')"
   ]
  },
  {
   "cell_type": "code",
   "execution_count": null,
   "metadata": {
    "Collapsed": "false"
   },
   "outputs": [],
   "source": [
    "titanic_df.iplot()"
   ]
  },
  {
   "cell_type": "markdown",
   "metadata": {
    "Collapsed": "false"
   },
   "source": [
    "**df.iplot() vs df.plot()**\n",
    "\n",
    "The visualisations is interactive and more detailed and all this without any major change in the syntax.\n",
    "\n",
    "[**Click here**](https://github.com/santosjorge/cufflinks/blob/master/Cufflinks%20Tutorial%20-%20Pandas%20Like.ipynb)  for more examples."
   ]
  },
  {
   "cell_type": "markdown",
   "metadata": {
    "Collapsed": "false"
   },
   "source": [
    "## 3. Magic Commands\n",
    "**Magic commands**  are a set of convenient functions in Jupyter Notebooks that are designed to solve some of the common problems in standard data analysis. You can see all available magics with the help of  `%lsmagic`.\n",
    "\n",
    "\n",
    "\n"
   ]
  },
  {
   "cell_type": "code",
   "execution_count": null,
   "metadata": {
    "Collapsed": "false"
   },
   "outputs": [],
   "source": [
    "%lsmagic"
   ]
  },
  {
   "cell_type": "markdown",
   "metadata": {
    "Collapsed": "false"
   },
   "source": [
    "Magic commands are of two kinds: **_line magics_**, which are prefixed by a single`%` character and operate on a single line of input, and **_cell magics_**, which are associated with the double `%%` prefix  and operate on multiple lines of input.  Magic functions are callable without having to type the initial % if set to 1.\n",
    "\n",
    "Let’s look at some of them that might be useful in common data analysis tasks:"
   ]
  },
  {
   "cell_type": "markdown",
   "metadata": {
    "Collapsed": "false"
   },
   "source": [
    " ### %matplotlib notebook\n",
    "\n",
    "The  `%matplotlib inline`  function is used to render the static matplotlib plots within the Jupyter notebook. Try replacing the `inline`  part with  `notebook` to get zoom-able & resize-able plots, easily. Make sure the function is called before importing the matplotlib library."
   ]
  },
  {
   "cell_type": "code",
   "execution_count": null,
   "metadata": {
    "Collapsed": "false",
    "_kg_hide-output": true
   },
   "outputs": [],
   "source": [
    "%matplotlib notebook\n",
    "import matplotlib.pyplot as plt\n",
    "plt.plot([[0,0],[1,1]], linewidth=2)\n",
    "plt.show()"
   ]
  },
  {
   "cell_type": "markdown",
   "metadata": {
    "Collapsed": "false"
   },
   "source": [
    "-   **%matplotlib notebook** vs **%matplotlib inline**\n",
    "\n",
    "![](https://cdn-images-1.medium.com/max/800/1*IAtw6rydG7o58yy2EyzCRA.png)"
   ]
  },
  {
   "cell_type": "markdown",
   "metadata": {
    "Collapsed": "false"
   },
   "source": [
    "### %%writefile\n",
    "\n",
    "`%%writefile` writes the contents of a cell to a file. Here the code will be written to a file named  **foo.py**  and saved in the current directory."
   ]
  },
  {
   "cell_type": "code",
   "execution_count": null,
   "metadata": {
    "Collapsed": "false"
   },
   "outputs": [],
   "source": [
    "%%writefile foo.py\n",
    "x = int(input('Enter a number: '))\n",
    "print(x*x)"
   ]
  },
  {
   "cell_type": "markdown",
   "metadata": {
    "Collapsed": "false"
   },
   "source": [
    "### %run\n",
    "\n",
    "The `%run` function runs a python script inside a notebook"
   ]
  },
  {
   "cell_type": "code",
   "execution_count": null,
   "metadata": {
    "Collapsed": "false"
   },
   "outputs": [],
   "source": [
    "# %run foo.py"
   ]
  },
  {
   "cell_type": "markdown",
   "metadata": {
    "Collapsed": "false"
   },
   "source": [
    "### %%latex\n",
    "\n",
    "The %%latex function renders the cell contents as LaTeX. It is  useful  for writing mathematical formulae and equations in a cell."
   ]
  },
  {
   "cell_type": "code",
   "execution_count": null,
   "metadata": {
    "Collapsed": "false"
   },
   "outputs": [],
   "source": [
    "%%latex\n",
    "\\begin{align}\n",
    "a = \\frac{1}{2} && b = \\frac{1}{3}\\\\\n",
    "\\end{align}"
   ]
  },
  {
   "cell_type": "markdown",
   "metadata": {
    "Collapsed": "false"
   },
   "source": [
    "## 4. Finding and Eliminating Errors\n",
    "\n",
    "The  **interactive debugger**  is also a magic function but I have given it a category of its own. If you get an exception while running the code cell, type  `%debug`  in a new line and run it. This opens an interactive debugging environment which brings you to the position where the exception has occurred. You can also check for values of variables assigned in the program and also perform operations here. To exit the debugger hit  `q`.\n"
   ]
  },
  {
   "cell_type": "code",
   "execution_count": null,
   "metadata": {
    "Collapsed": "false"
   },
   "outputs": [],
   "source": [
    "x = [1,2,3]\n",
    "y = 2\n",
    "z = 5\n",
    "\n",
    "result = y+z\n",
    "print(result)\n",
    "result2 = x+y\n",
    "print(result2)"
   ]
  },
  {
   "cell_type": "code",
   "execution_count": null,
   "metadata": {
    "Collapsed": "false",
    "_kg_hide-output": true
   },
   "outputs": [],
   "source": [
    "%debug"
   ]
  },
  {
   "cell_type": "markdown",
   "metadata": {
    "Collapsed": "false"
   },
   "source": [
    "Here is a gif to show how it appears in a notebook\n",
    "\n",
    "![](https://cdn-images-1.medium.com/max/800/1*pWAbxYovjtwQyFSaOwoQbg.gif)"
   ]
  },
  {
   "cell_type": "markdown",
   "metadata": {
    "Collapsed": "false"
   },
   "source": [
    "## 5. Pretty Printing \n",
    "\n",
    "If you want to produce  aesthetically  pleasing representations of your data structures,  [**pprint**](https://docs.python.org/2/library/pprint.html)  is the go-to module. It is especially useful when printing dictionaries or JSON data. Let’s have a look at an example which uses both  `print`  and  `pprint`  to display the output."
   ]
  },
  {
   "cell_type": "code",
   "execution_count": null,
   "metadata": {
    "Collapsed": "false"
   },
   "outputs": [],
   "source": [
    "# with print\n",
    "employee_records = {'Emp ID': '101', 'Emp Name': 'Tom',\n",
    "                   'Project IDs': {'P1': 1308, 'P2':'A104','P4':2}}\n",
    "\n",
    "print(employee_records)"
   ]
  },
  {
   "cell_type": "code",
   "execution_count": null,
   "metadata": {
    "Collapsed": "false"
   },
   "outputs": [],
   "source": [
    "# with pretty print\n",
    "import pprint\n",
    "\n",
    "employee_records = {'Emp ID': '101', 'Emp Name': 'Tom',\n",
    "                   'Project IDs': {'P1': 1308, 'P2':'A104','P4':2}}\n",
    "\n",
    "pprint.pprint(employee_records,width=1)"
   ]
  },
  {
   "cell_type": "markdown",
   "metadata": {
    "Collapsed": "false"
   },
   "source": [
    "## 6. Making the Notes stand out.\n",
    "\n",
    "We can use alert/Note boxes in your Jupyter Notebooks to highlight something important or anything that needs to stand out. The colour of the note depends upon the type of alert that is specified. Just add any or all of the following codes in a cell that needs to be highlighted."
   ]
  },
  {
   "cell_type": "markdown",
   "metadata": {
    "Collapsed": "false"
   },
   "source": [
    "-   **Blue Alert Box: info**\n",
    "\n",
    "```\n",
    "<div class=\"alert alert-block alert-info\">\n",
    "<b>Tip:</b> Use blue boxes (alert-info) for tips and notes. \n",
    "If it’s a note, you don’t have to include the word “Note”.\n",
    "</div>\n",
    "```\n",
    "<div class=\"alert alert-block alert-info\">\n",
    "<b>Tip:</b> Use blue boxes (alert-info) for tips and notes. \n",
    "If it’s a note, you don’t have to include the word “Note”\n",
    "</div>"
   ]
  },
  {
   "cell_type": "markdown",
   "metadata": {
    "Collapsed": "false"
   },
   "source": [
    "-   **Yellow Alert Box: Warning**\n",
    "```\n",
    "<div class=\"alert alert-block alert-warning\">  \n",
    "<b>Example:</b> Yellow Boxes are generally used to include additional examples or mathematical formulas.  \n",
    "</div>\n",
    "```\n",
    "<div class=\"alert alert-block alert-warning\">  \n",
    "<b>Example:</b> Yellow Boxes are generally used to include additional examples or mathematical formulas.  \n",
    "</div>"
   ]
  },
  {
   "cell_type": "markdown",
   "metadata": {
    "Collapsed": "false"
   },
   "source": [
    "-   **Green Alert Box: Success**\n",
    "```\n",
    "<div class=\"alert alert-block alert-success\">  \n",
    "Use green box only when necessary like to display links to related content.  \n",
    "</div>\n",
    "```\n",
    "<div class=\"alert alert-block alert-success\">  \n",
    "Use green box only when necessary like to display links to related content.  \n",
    "</div>"
   ]
  },
  {
   "cell_type": "markdown",
   "metadata": {
    "Collapsed": "false"
   },
   "source": [
    "-   **Red Alert Box: Danger**\n",
    "```\n",
    "<div class=\"alert alert-block alert-danger\">  \n",
    "It is good to avoid red boxes but can be used to alert users to not delete some important part of code etc.   \n",
    "</div>\n",
    "```\n",
    "<div class=\"alert alert-block alert-danger\">  \n",
    "It is good to avoid red boxes but can be used to alert users to not delete some important part of code etc.   \n",
    "</div>"
   ]
  },
  {
   "cell_type": "markdown",
   "metadata": {
    "Collapsed": "false"
   },
   "source": [
    "## 7. Printing all the outputs of a cell\n",
    "\n",
    "It is a normal property of the cell that only the last output gets printed and for the others, we need to add the  `print()` function. Well, it turns out that we can print all the outputs just by adding the following snippet at the top of the notebook.\n",
    "\n",
    "```\n",
    "from IPython.core.interactiveshell import InteractiveShell  \n",
    "InteractiveShell.ast_node_interactivity = \"all\"\n",
    "```\n",
    "To revert to the original setting :\n",
    "```\n",
    "InteractiveShell.ast_node_interactivity = \"last_expr\"\n",
    "```"
   ]
  },
  {
   "cell_type": "code",
   "execution_count": null,
   "metadata": {
    "Collapsed": "false"
   },
   "outputs": [],
   "source": [
    "10+5\n",
    "11+6\n",
    "12+7"
   ]
  },
  {
   "cell_type": "markdown",
   "metadata": {
    "Collapsed": "false"
   },
   "source": [
    "## 8. Running python scripts with the ‘i’ option\n",
    "\n",
    "A typical way of running a python script from the command line is:  `python hello.py.`  However, if you add an additional  `-i` while running the same script e.g  `python -i hello.py`  it offers more advantages. Let’s see how.\n",
    "\n",
    "-   Firstly, once the end of the program is reached, python doesn’t exit the interpreter. As such we can check the values of the variables and the correctness of the functions defined in our program.\n",
    "\n",
    "![](https://cdn-images-1.medium.com/max/800/1*XInqaE5tHueOrxn_--uzEA.gif)\n",
    "\n",
    "-   Secondly, we can easily invoke a python debugger since we are still in the interpreter by:\n",
    "```\n",
    "    import pdb  \n",
    "    pdb.pm()\n",
    "```\n",
    "This will bring us o the position where the exception has occurred and we can then work upon the code.\n",
    "\n",
    "_The original_ [_source_](http://www.bnikolic.co.uk/blog/python-running-cline.html) _of the hack._\n"
   ]
  },
  {
   "cell_type": "markdown",
   "metadata": {
    "Collapsed": "false"
   },
   "source": [
    "## 9. Commenting out code automatically\n",
    "\n",
    "`Ctrl/Cmd + /`  comments out selected lines in the cell by automatically. Hitting the combination again will uncomment the same line of code.\n"
   ]
  },
  {
   "cell_type": "markdown",
   "metadata": {
    "Collapsed": "false"
   },
   "source": [
    "## 10. To delete is human, to restore divine\n",
    "\n",
    "Have you ever accidentally deleted a cell in a Jupyter Notebook? If yes then here is a shortcut which can undo that delete action.\n",
    "\n",
    "-   In case you have deleted the contents of a cell, you can easily recover it by hitting  `CTRL/CMD+Z`\n",
    "-   If you need to recover an entire deleted cell hit  `ESC+Z` or  `EDIT > Undo Delete Cells`\n",
    "\n",
    "![](https://cdn-images-1.medium.com/max/800/1*bJQZjROUMl4Gwl6Pk2oVEQ.gif)"
   ]
  },
  {
   "cell_type": "markdown",
   "metadata": {
    "Collapsed": "false"
   },
   "source": [
    "These were some of the tips I had gathered while working with Python and Jupyter Notebooks, over the time.  I am sure these simple hacks will be of use to you.The source of this article is blog I wrote some time back with the same name. You can find the link to the blog here : [10 Simple hacks to speed up your Data Analysis in Python](https://towardsdatascience.com/10-simple-hacks-to-speed-up-your-data-analysis-in-python-ec18c6396e6b?)"
   ]
  },
  {
   "cell_type": "code",
   "execution_count": null,
   "metadata": {
    "Collapsed": "false"
   },
   "outputs": [],
   "source": []
  }
 ],
 "metadata": {
  "kernelspec": {
   "display_name": "Python 3",
   "language": "python",
   "name": "python3"
  },
  "language_info": {
   "codemirror_mode": {
    "name": "ipython",
    "version": 3
   },
   "file_extension": ".py",
   "mimetype": "text/x-python",
   "name": "python",
   "nbconvert_exporter": "python",
   "pygments_lexer": "ipython3",
   "version": "3.7.4"
  }
 },
 "nbformat": 4,
 "nbformat_minor": 4
}
